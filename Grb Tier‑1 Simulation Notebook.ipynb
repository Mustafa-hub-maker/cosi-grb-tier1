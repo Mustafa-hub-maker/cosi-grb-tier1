{
 "cells": [
  {
   "cell_type": "markdown",
   "id": "f4d109af-158c-40ee-90f4-7af3e6408148",
   "metadata": {},
   "source": [
    "# GRB Tier-1 Simulation & CDS Exploration\n",
    "\n",
    "**Goal:** simulate Tier-1 grid (12 GRB cases + background), then auto-generate:\n",
    "- spectra (log–log),\n",
    "- CDS 2D and 3D plots,\n",
    "- HEALPix sky maps (+ zooms),\n",
    "ready to paste into Google Slides.\n",
    "\n",
    "This notebook uses the DC3 response/orientation and your SourceInjector workflow.\n"
   ]
  },
  {
   "cell_type": "code",
   "execution_count": 11,
   "id": "b22f39c2-3fe7-4f3d-86c3-a7c550f88d23",
   "metadata": {},
   "outputs": [
    {
     "name": "stdout",
     "output_type": "stream",
     "text": [
      "Response: /data01/grb_2/SMEXv12.Continuum.HEALPixO3_10bins_log_flat.binnedimaging.imagingresponse.nonsparse_nside8.area.good_chunks_unzip.earthocc.h5\n",
      "Orientation: /data01/grb_2/20280301_3_month_with_orbital_info.ori\n"
     ]
    }
   ],
   "source": [
    "# Imports\n",
    "import os\n",
    "from pathlib import Path\n",
    "import json\n",
    "import csv\n",
    "import numpy as np\n",
    "import matplotlib.pyplot as plt\n",
    "\n",
    "import astropy.units as u\n",
    "from astropy.coordinates import SkyCoord\n",
    "\n",
    "from cosipy import SpacecraftFile, SourceInjector\n",
    "from cosipy.util import fetch_wasabi_file\n",
    "from histpy import Histogram\n",
    "from threeML import Band, Model, PointSource\n",
    "\n",
    "# Optional: HEALPix maps\n",
    "try:\n",
    "    import healpy as hp\n",
    "    HAVE_HEALPY = True\n",
    "except Exception:\n",
    "    HAVE_HEALPY = False\n",
    "\n",
    "import h5py  # for HDF5 traversal\n",
    "\n",
    "# Directories\n",
    "DATA_DIR = Path(\"/data01/grb_2\").expanduser()\n",
    "OUT_DIR  = DATA_DIR / \"tier1_outputs\"\n",
    "FIG_DIR  = OUT_DIR / \"figs\"\n",
    "for d in (DATA_DIR, OUT_DIR, FIG_DIR):\n",
    "    d.mkdir(parents=True, exist_ok=True)\n",
    "\n",
    "# Response & Orientation (DC3 examples)\n",
    "RESPONSE_H5 = DATA_DIR / (\n",
    "    \"SMEXv12.Continuum.HEALPixO3_10bins_log_flat.\"\n",
    "    \"binnedimaging.imagingresponse.nonsparse_nside8.area.\"\n",
    "    \"good_chunks_unzip.earthocc.h5\"\n",
    ")\n",
    "ORI_FILE = DATA_DIR / \"20280301_3_month_with_orbital_info.ori\"\n",
    "\n",
    "# Fetch once if missing\n",
    "if not RESPONSE_H5.exists():\n",
    "    zip_path = DATA_DIR / RESPONSE_H5.name.replace(\".h5\", \".zip\")\n",
    "    fetch_wasabi_file(\n",
    "        \"COSI-SMEX/DC2/Responses/\"\n",
    "        \"SMEXv12.Continuum.HEALPixO3_10bins_log_flat.\"\n",
    "        \"binnedimaging.imagingresponse.nonsparse_nside8.area.\"\n",
    "        \"good_chunks_unzip.earthocc.zip\",\n",
    "        zip_path,\n",
    "    )\n",
    "    import shutil\n",
    "    shutil.unpack_archive(zip_path, DATA_DIR)\n",
    "    zip_path.unlink(missing_ok=True)\n",
    "\n",
    "if not ORI_FILE.exists():\n",
    "    fetch_wasabi_file(\n",
    "        \"COSI-SMEX/DC2/Data/Orientation/20280301_3_month_with_orbital_info.ori\",\n",
    "        ORI_FILE,\n",
    "    )\n",
    "\n",
    "print(\"Response:\", RESPONSE_H5)\n",
    "print(\"Orientation:\", ORI_FILE)"
   ]
  },
  {
   "cell_type": "markdown",
   "id": "f99d4275-6c9a-4992-81fb-1708bc9735ae",
   "metadata": {},
   "source": [
    "🧩 2) Tier-1 Definitions (Spectra, Durations, Sky, Flux)"
   ]
  },
  {
   "cell_type": "code",
   "execution_count": 12,
   "id": "a6c33fc9-bb56-48ec-a46e-d505e0c16ec4",
   "metadata": {},
   "outputs": [],
   "source": [
    "# Spectral sets (Band) — Tier-1 uses S1,S2 (long) and S4,S5 (short)\n",
    "SPECTRA = {\n",
    "    \"S1\": {\"alpha\": -1.1, \"beta\": -2.3, \"xp_keV\": 150.0},  # long, softer\n",
    "    \"S2\": {\"alpha\": -1.0, \"beta\": -2.3, \"xp_keV\": 300.0},  # long, typical\n",
    "    \"S4\": {\"alpha\": -0.6, \"beta\": -2.1, \"xp_keV\": 600.0},  # short, hard\n",
    "    \"S5\": {\"alpha\": -0.8, \"beta\": -2.2, \"xp_keV\": 800.0},  # short, very hard\n",
    "}\n",
    "\n",
    "# Duration labels (metadata for filenames; injector uses orientation timeline)\n",
    "DURATIONS = {\n",
    "    \"SHORT0p8\": {\"class\": \"short\", \"T90_s\": 0.8},\n",
    "    \"LONG60\":   {\"class\": \"long\",  \"T90_s\": 60.0},\n",
    "}\n",
    "\n",
    "# Sky positions (Galactic): plane vs high latitude\n",
    "SKY = {\n",
    "    \"G1\": {\"l_deg\": 0.0,  \"b_deg\": 0.0},   # plane (GC)\n",
    "    \"G5\": {\"l_deg\": 45.0, \"b_deg\": +50.0}, # high-lat north\n",
    "}\n",
    "\n",
    "# Flux scale factors for Band.K at 100 keV (low/nominal/high)\n",
    "FLUX = {\"F0p1\": 0.1, \"F1\": 1.0, \"F10\": 10.0}\n",
    "\n",
    "# Base normalization and pivot (same as your earlier setup)\n",
    "K_BASE = 7.56e-4 / (u.cm * u.cm * u.s * u.keV)\n",
    "PIVOT_KEV = 100.0 * u.keV"
   ]
  },
  {
   "cell_type": "markdown",
   "id": "8a2ffb42-83f4-4efb-87aa-00ad779c7208",
   "metadata": {},
   "source": [
    "🗂️ 3) Build & Save the Tier-1 Manifest (12 GRB cases)"
   ]
  },
  {
   "cell_type": "code",
   "execution_count": 13,
   "id": "f72913d8-9f0e-4115-95c5-5a37a1de3d75",
   "metadata": {},
   "outputs": [
    {
     "name": "stdout",
     "output_type": "stream",
     "text": [
      "Tier-1 cases: 12\n",
      "{'case_id': 'SHORT_S4_F0p1', 'duration_id': 'SHORT0p8', 'spec_id': 'S4', 'flux_id': 'F0p1', 'flux_scale': 0.1, 'sky_id': 'G5'}\n",
      "Saved: /data01/grb_2/tier1_outputs/tier1_manifest.csv\n",
      "Saved: /data01/grb_2/tier1_outputs/tier1_manifest.json\n"
     ]
    }
   ],
   "source": [
    "manifest = []\n",
    "\n",
    "# Short @ high-lat: S4 and S5 × {0.1, 1, 10}\n",
    "for spec_id in (\"S4\", \"S5\"):\n",
    "    for flux_id, scale in FLUX.items():\n",
    "        manifest.append({\n",
    "            \"case_id\":    f\"SHORT_{spec_id}_{flux_id}\",\n",
    "            \"duration_id\":\"SHORT0p8\",\n",
    "            \"spec_id\":    spec_id,\n",
    "            \"flux_id\":    flux_id,\n",
    "            \"flux_scale\": scale,\n",
    "            \"sky_id\":     \"G5\",\n",
    "        })\n",
    "\n",
    "# Long @ plane: S1 and S2 × {0.1, 1, 10}\n",
    "for spec_id in (\"S1\", \"S2\"):\n",
    "    for flux_id, scale in FLUX.items():\n",
    "        manifest.append({\n",
    "            \"case_id\":    f\"LONG_{spec_id}_{flux_id}\",\n",
    "            \"duration_id\":\"LONG60\",\n",
    "            \"spec_id\":    spec_id,\n",
    "            \"flux_id\":    flux_id,\n",
    "            \"flux_scale\": scale,\n",
    "            \"sky_id\":     \"G1\",\n",
    "        })\n",
    "\n",
    "print(\"Tier-1 cases:\", len(manifest))\n",
    "print(manifest[0])\n",
    "\n",
    "# Save CSV/JSON for reproducibility\n",
    "CSV_PATH = OUT_DIR / \"tier1_manifest.csv\"\n",
    "JSON_PATH = OUT_DIR / \"tier1_manifest.json\"\n",
    "\n",
    "with open(CSV_PATH, \"w\", newline=\"\") as f:\n",
    "    writer = csv.DictWriter(f, fieldnames=list(manifest[0].keys()))\n",
    "    writer.writeheader()\n",
    "    writer.writerows(manifest)\n",
    "\n",
    "with open(JSON_PATH, \"w\") as f:\n",
    "    json.dump(manifest, f, indent=2)\n",
    "\n",
    "print(\"Saved:\", CSV_PATH)\n",
    "print(\"Saved:\", JSON_PATH)"
   ]
  },
  {
   "cell_type": "markdown",
   "id": "85845782-385f-4498-b9bd-f96df0683c19",
   "metadata": {},
   "source": [
    "🛠️ 4) Helpers — Model Build, Filenames, Histogram utils, Plotting, HEALPix"
   ]
  },
  {
   "cell_type": "code",
   "execution_count": 14,
   "id": "b46fb259-4d42-46ed-b199-980b989c3984",
   "metadata": {},
   "outputs": [],
   "source": [
    "# ---------- Model builders (FIXED: PointSource name is positional) ----------\n",
    "def make_band_from_ids(spec_id: str, flux_scale: float) -> Band:\n",
    "    s = SPECTRA[spec_id]\n",
    "    band = Band()\n",
    "    band.alpha.value = float(s[\"alpha\"])\n",
    "    band.beta.value  = float(s[\"beta\"])\n",
    "    band.xp.value    = float(s[\"xp_keV\"])\n",
    "    band.piv.value   = float(PIVOT_KEV.value)\n",
    "    band.K.value     = float(K_BASE.value * flux_scale)\n",
    "    band.xp.unit = u.keV\n",
    "    band.piv.unit = u.keV\n",
    "    band.K.unit  = 1/(u.cm*u.cm*u.s*u.keV)\n",
    "    return band\n",
    "\n",
    "def make_point_model(row: dict) -> Model:\n",
    "    sky = SKY[row[\"sky_id\"]]\n",
    "    src_coord = SkyCoord(l=sky[\"l_deg\"], b=sky[\"b_deg\"], unit=\"deg\", frame=\"galactic\")\n",
    "    band = make_band_from_ids(row[\"spec_id\"], row[\"flux_scale\"])\n",
    "    # IMPORTANT: pass the source name as the FIRST POSITIONAL ARG\n",
    "    ps = PointSource(row[\"case_id\"], l=src_coord.l.deg, b=src_coord.b.deg, spectral_shape=band)\n",
    "    return Model(ps)\n",
    "\n",
    "# ---------- Filenames ----------\n",
    "def out_stem_for(row: dict) -> str:\n",
    "    dur  = row[\"duration_id\"]\n",
    "    spec = row[\"spec_id\"]\n",
    "    flux = row[\"flux_id\"]\n",
    "    sky  = SKY[row[\"sky_id\"]]\n",
    "    L = int(round(sky[\"l_deg\"]))\n",
    "    B = int(round(sky[\"b_deg\"]))\n",
    "    sign = \"+\" if B >= 0 else \"-\"\n",
    "    return f\"GRB_{dur}_{spec}_{flux}_L{L:03d}_B{sign}{abs(B):02d}\"\n",
    "\n",
    "def paths_for(row: dict):\n",
    "    stem = out_stem_for(row)\n",
    "    h5   = OUT_DIR / f\"{stem}.h5\"\n",
    "    # figures\n",
    "    fig_spec   = FIG_DIR / f\"{stem}_spectrum.png\"\n",
    "    fig_cds2   = FIG_DIR / f\"{stem}_cds2d.png\"\n",
    "    fig_cds3   = FIG_DIR / f\"{stem}_cds3d.png\"\n",
    "    # sky products\n",
    "    fits_sky   = OUT_DIR / f\"{stem}_sky_map.fits\"\n",
    "    fig_moll   = FIG_DIR / f\"{stem}_sky_moll.png\"\n",
    "    fig_gnom_g = FIG_DIR / f\"{stem}_sky_gnom_gal.png\"\n",
    "    fig_gnom_eq= FIG_DIR / f\"{stem}_sky_gnom_eq.png\"\n",
    "    return dict(\n",
    "        h5=h5, fig_spec=fig_spec, fig_cds2=fig_cds2, fig_cds3=fig_cds3,\n",
    "        fits_sky=fits_sky, fig_moll=fig_moll, fig_gnom_g=fig_gnom_g, fig_gnom_eq=fig_gnom_eq\n",
    "    )\n",
    "\n",
    "# ---------- Histogram utilities ----------\n",
    "def project_energy(h: Histogram):\n",
    "    for name in (\"Em\", \"Energy\", \"E\", \"En\", \"Energies\"):\n",
    "        try: return h.project(name)\n",
    "        except Exception: pass\n",
    "    raise RuntimeError(\"No energy axis found (Em/Energy/E/En/Energies).\")\n",
    "\n",
    "def axis_label(a):\n",
    "    for k in (\"label\", \"title\", \"axis_name\", \"name\"):\n",
    "        if hasattr(a, k): return getattr(a, k)\n",
    "    return str(a)\n",
    "\n",
    "def axis_centers(ax):\n",
    "    for attr in (\"centers\", \"bin_centers\", \"ticks\"):\n",
    "        if hasattr(ax, attr):\n",
    "            arr = np.asarray(getattr(ax, attr))\n",
    "            if arr.size: return arr\n",
    "    for edges in (\"edges\", \"bins\", \"bin_edges\"):\n",
    "        if hasattr(ax, edges):\n",
    "            e = np.asarray(getattr(ax, edges))\n",
    "            if e.ndim == 1 and e.size >= 2:\n",
    "                return 0.5 * (e[1:] + e[:-1])\n",
    "    return None\n",
    "\n",
    "def hist_values(hobj):\n",
    "    for attr in (\"values\", \"counts\", \"y\", \"z\", \"data\"):\n",
    "        if hasattr(hobj, attr):\n",
    "            try:\n",
    "                arr = np.asarray(getattr(hobj, attr))\n",
    "                if arr.size: return arr\n",
    "            except Exception: pass\n",
    "    try:\n",
    "        dense = hobj.todense()\n",
    "        for attr in (\"values\", \"counts\", \"y\", \"data\"):\n",
    "            if hasattr(dense, attr):\n",
    "                arr = np.asarray(getattr(dense, attr))\n",
    "                if arr.size: return arr\n",
    "    except Exception: pass\n",
    "    return None\n",
    "\n",
    "def cds2d_get_axes(h: Histogram):\n",
    "    labels = [axis_label(a) for a in h.axes]\n",
    "    geom = [x for x in labels if x not in (\"Em\",\"Energy\",\"E\",\"En\",\"Energies\",\"Time\")]\n",
    "    if len(geom) < 2:\n",
    "        raise RuntimeError(\"Could not identify two geometry axes for CDS.\")\n",
    "    return geom[0], geom[1]\n",
    "\n",
    "# ---------- Plotting ----------\n",
    "def plot_spectrum_png(hfile: Path, out_png: Path, title: str):\n",
    "    h = Histogram.open(str(hfile))\n",
    "    proj = project_energy(h)\n",
    "    fig, ax = plt.subplots(figsize=(6.5,4.4))\n",
    "    proj.draw(ax=ax, label=title)\n",
    "    ax.set_xscale(\"log\"); ax.set_yscale(\"log\")\n",
    "    ax.set_xlabel(\"Energy [keV]\"); ax.set_ylabel(\"Counts\")\n",
    "    ax.set_title(title); ax.legend()\n",
    "    fig.tight_layout(); fig.savefig(out_png, dpi=160); plt.close(fig)\n",
    "\n",
    "def plot_cds2d_png(hfile: Path, out_png: Path, title: str):\n",
    "    h = Histogram.open(str(hfile))\n",
    "    axA, axB = cds2d_get_axes(h)\n",
    "    try: h_noE = h.integrate(\"Em\")\n",
    "    except Exception:\n",
    "        try: h_noE = h.marginalize(\"Em\")\n",
    "        except Exception: h_noE = h\n",
    "    h2d = h_noE.project([axA, axB])\n",
    "\n",
    "    fig, ax = plt.subplots(figsize=(6.3,5.0))\n",
    "    drew = False\n",
    "    try:\n",
    "        h2d.draw(ax=ax); drew = True\n",
    "    except Exception:\n",
    "        pass\n",
    "    if not drew:\n",
    "        Xc = axis_centers(h2d.axes[0]); Yc = axis_centers(h2d.axes[1]); Z = hist_values(h2d)\n",
    "        if (Xc is not None) and (Yc is not None) and (Z is not None) and (Z.ndim==2):\n",
    "            im = ax.imshow(Z, origin=\"lower\", aspect=\"auto\",\n",
    "                           extent=[Xc.min(), Xc.max(), Yc.min(), Yc.max()])\n",
    "            fig.colorbar(im, ax=ax, label=\"Counts\")\n",
    "    ax.set_xlabel(axA); ax.set_ylabel(axB)\n",
    "    ax.set_title(title)\n",
    "    fig.tight_layout(); fig.savefig(out_png, dpi=160); plt.close(fig)\n",
    "\n",
    "def plot_cds3d_png(hfile: Path, out_png: Path, title: str):\n",
    "    h = Histogram.open(str(hfile))\n",
    "    axA, axB = cds2d_get_axes(h)\n",
    "    try: h_noE = h.integrate(\"Em\")\n",
    "    except Exception:\n",
    "        try: h_noE = h.marginalize(\"Em\")\n",
    "        except Exception: h_noE = h\n",
    "    h2d = h_noE.project([axA, axB])\n",
    "    Xc = axis_centers(h2d.axes[0]); Yc = axis_centers(h2d.axes[1]); Z = hist_values(h2d)\n",
    "    if (Xc is None) or (Yc is None) or (Z is None) or (Z.ndim != 2):\n",
    "        print(\"[cds3d] Skipped (no centers/values)\")\n",
    "        return\n",
    "    from mpl_toolkits.mplot3d import Axes3D  # noqa: F401\n",
    "    Xg, Yg = np.meshgrid(Xc, Yc, indexing=\"ij\")\n",
    "    sx = max(1, Xg.shape[0]//128); sy = max(1, Yg.shape[1]//128)\n",
    "    fig = plt.figure(figsize=(7.6,5.8))\n",
    "    ax = fig.add_subplot(111, projection=\"3d\")\n",
    "    ax.plot_surface(Xg[::sx,::sy], Yg[::sx,::sy], Z[::sx,::sy], linewidth=0, antialiased=False, shade=True)\n",
    "    ax.set_xlabel(axA); ax.set_ylabel(axB); ax.set_zlabel(\"Counts\")\n",
    "    ax.set_title(title)\n",
    "    fig.tight_layout(); fig.savefig(out_png, dpi=160); plt.close(fig)\n",
    "\n",
    "# ---------- HEALPix reconstruction & figures ----------\n",
    "def infer_nside(n_pix:int):\n",
    "    ns = int(round((n_pix/12.0)**0.5))\n",
    "    return ns if 12*ns*ns == n_pix else None\n",
    "\n",
    "def hdf5_to_healpix(h5_path: Path):\n",
    "    with h5py.File(str(h5_path), \"r\") as f:\n",
    "        cands = []\n",
    "        def _walk(g, p=\"\"):\n",
    "            for k,v in g.items():\n",
    "                path = f\"{p}/{k}\" if p else k\n",
    "                if isinstance(v, h5py.Dataset) and v.ndim==3:\n",
    "                    cands.append((path, v.shape))\n",
    "                elif isinstance(v, h5py.Group):\n",
    "                    _walk(v, path)\n",
    "        _walk(f)\n",
    "        cands.sort(key=lambda x: np.prod(x[1]), reverse=True)\n",
    "        if not cands: raise RuntimeError(\"No 3D dataset found in HDF5\")\n",
    "        path, shape = cands[0]\n",
    "        cube = f[path][...].astype(float)\n",
    "\n",
    "    sky_axis = None; nside = None\n",
    "    for i,n in enumerate(shape):\n",
    "        ns = infer_nside(n)\n",
    "        if ns is not None: sky_axis, nside = i, ns; break\n",
    "    if sky_axis is None: raise RuntimeError(\"No HEALPix axis detected in 3D cube\")\n",
    "\n",
    "    axes_to_sum = tuple(j for j in range(cube.ndim) if j != sky_axis)\n",
    "    sky = np.nansum(cube, axis=axes_to_sum)\n",
    "    sky[~np.isfinite(sky)] = 0.0\n",
    "    return nside, sky.astype(np.float32)\n",
    "\n",
    "def save_sky_figures(h5_path: Path, fits_out: Path, moll_png: Path, gnom_g_png: Path, gnom_eq_png: Path):\n",
    "    if not HAVE_HEALPY:\n",
    "        print(\"[sky] healpy not installed; skipped sky maps\")\n",
    "        return\n",
    "    nside, sky = hdf5_to_healpix(h5_path)\n",
    "    hp.write_map(str(fits_out), sky, coord='G', nest=False, dtype=np.float32, overwrite=True)\n",
    "\n",
    "    idx = int(np.nanargmax(sky))\n",
    "    lon_b, lat_b = hp.pix2ang(nside, idx, lonlat=True)\n",
    "\n",
    "    # Mollweide\n",
    "    plt.figure(figsize=(9.0,5.4))\n",
    "    hp.mollview(sky, coord='G', title='All-sky (Galactic)', unit='counts',\n",
    "                min=np.nanpercentile(sky, 15), max=np.nanpercentile(sky, 99.5), cmap='viridis')\n",
    "    hp.graticule(); hp.projplot(lon_b, lat_b, lonlat=True, marker='*', color='r', markersize=12)\n",
    "    plt.savefig(moll_png, dpi=160); plt.close()\n",
    "\n",
    "    # Gnomonic around brightest (Galactic)\n",
    "    plt.figure(figsize=(7.0,6.0))\n",
    "    hp.gnomview(sky, rot=(lon_b, lat_b), coord='G', xsize=800, reso=5.0,\n",
    "                title=f'Zoom (Galactic) l={lon_b:.2f}°, b={lat_b:.2f}°',\n",
    "                unit='counts', min=np.nanpercentile(sky, 20), max=np.nanpercentile(sky, 99.7), cmap='viridis')\n",
    "    hp.graticule(); hp.projplot(lon_b, lat_b, lonlat=True, marker='*', color='r', markersize=12)\n",
    "    plt.savefig(gnom_g_png, dpi=160); plt.close()\n",
    "\n",
    "    # Equatorial center (try coord transform; fallback if not supported)\n",
    "    eq = SkyCoord(l=lon_b*u.deg, b=lat_b*u.deg, frame='galactic').icrs\n",
    "    ra_c, dec_c = eq.ra.deg, eq.dec.deg\n",
    "    ok = False\n",
    "    try:\n",
    "        plt.figure(figsize=(7.0,6.0))\n",
    "        hp.gnomview(sky, rot=(ra_c, dec_c), coord=['G','C'], xsize=800, reso=5.0,\n",
    "                    title=f'Zoom (Equatorial) RA={ra_c:.2f}°, Dec={dec_c:.2f}°',\n",
    "                    unit='counts', min=np.nanpercentile(sky, 20), max=np.nanpercentile(sky, 99.7), cmap='plasma')\n",
    "        hp.graticule(); hp.projplot(ra_c, dec_c, lonlat=True, marker='*', color='w', markersize=12)\n",
    "        plt.savefig(gnom_eq_png, dpi=160); plt.close(); ok=True\n",
    "    except TypeError:\n",
    "        pass\n",
    "    if not ok:\n",
    "        rot = hp.Rotator(coord=['C','G'])\n",
    "        l_c, b_c = rot(ra_c, dec_c, lonlat=True)\n",
    "        plt.figure(figsize=(7.0,6.0))\n",
    "        hp.gnomview(sky, rot=(l_c, b_c), coord='G', xsize=800, reso=5.0,\n",
    "                    title=f'Zoom (Equatorial center) RA={ra_c:.2f}°, Dec={dec_c:.2f}°',\n",
    "                    unit='counts', min=np.nanpercentile(sky, 20), max=np.nanpercentile(sky, 99.7), cmap='plasma')\n",
    "        hp.graticule(); hp.projplot(l_c, b_c, lonlat=True, marker='*', color='w', markersize=12)\n",
    "        plt.savefig(gnom_eq_png, dpi=160); plt.close()\n"
   ]
  },
  {
   "cell_type": "markdown",
   "id": "3db70ad0-7e10-45dc-905f-3e08749d1574",
   "metadata": {},
   "source": [
    "🚀 5) Run: Inject All Tier-1 Cases + Save Plots & Sky Maps"
   ]
  },
  {
   "cell_type": "code",
   "execution_count": 15,
   "id": "edc69be9-2e8b-4040-8961-52ca21a3e5c2",
   "metadata": {},
   "outputs": [
    {
     "name": "stdout",
     "output_type": "stream",
     "text": [
      "[OK] Injected: GRB_SHORT0p8_S4_F0p1_L045_B+50.h5\n",
      "[cds3d] Skipped (no centers/values)\n",
      "[OK] Injected: GRB_SHORT0p8_S4_F1_L045_B+50.h5\n",
      "[cds3d] Skipped (no centers/values)\n",
      "[OK] Injected: GRB_SHORT0p8_S4_F10_L045_B+50.h5\n",
      "[cds3d] Skipped (no centers/values)\n",
      "[OK] Injected: GRB_SHORT0p8_S5_F0p1_L045_B+50.h5\n",
      "[cds3d] Skipped (no centers/values)\n",
      "[OK] Injected: GRB_SHORT0p8_S5_F1_L045_B+50.h5\n",
      "[cds3d] Skipped (no centers/values)\n",
      "[OK] Injected: GRB_SHORT0p8_S5_F10_L045_B+50.h5\n",
      "[cds3d] Skipped (no centers/values)\n",
      "[OK] Injected: GRB_LONG60_S1_F0p1_L000_B+00.h5\n",
      "[cds3d] Skipped (no centers/values)\n"
     ]
    },
    {
     "name": "stderr",
     "output_type": "stream",
     "text": [
      "\n",
      "WARNING RuntimeWarning: More than 20 figures have been opened. Figures created through the pyplot interface (`matplotlib.pyplot.figure`) are retained until explicitly closed and may consume too much memory. (To control this warning, see the rcParam `figure.max_open_warning`). Consider using `matplotlib.pyplot.close()`.\n",
      "\n",
      "\n",
      "WARNING RuntimeWarning: More than 20 figures have been opened. Figures created through the pyplot interface (`matplotlib.pyplot.figure`) are retained until explicitly closed and may consume too much memory. (To control this warning, see the rcParam `figure.max_open_warning`). Consider using `matplotlib.pyplot.close()`.\n",
      "\n"
     ]
    },
    {
     "name": "stdout",
     "output_type": "stream",
     "text": [
      "[OK] Injected: GRB_LONG60_S1_F1_L000_B+00.h5\n",
      "[cds3d] Skipped (no centers/values)\n",
      "[OK] Injected: GRB_LONG60_S1_F10_L000_B+00.h5\n",
      "[cds3d] Skipped (no centers/values)\n",
      "[OK] Injected: GRB_LONG60_S2_F0p1_L000_B+00.h5\n",
      "[cds3d] Skipped (no centers/values)\n",
      "[OK] Injected: GRB_LONG60_S2_F1_L000_B+00.h5\n",
      "[cds3d] Skipped (no centers/values)\n",
      "[OK] Injected: GRB_LONG60_S2_F10_L000_B+00.h5\n",
      "[cds3d] Skipped (no centers/values)\n",
      "All Tier-1 injections complete.\n"
     ]
    },
    {
     "data": {
      "text/plain": [
       "<Figure size 900x540 with 0 Axes>"
      ]
     },
     "metadata": {},
     "output_type": "display_data"
    },
    {
     "data": {
      "text/plain": [
       "<Figure size 700x600 with 0 Axes>"
      ]
     },
     "metadata": {},
     "output_type": "display_data"
    },
    {
     "data": {
      "text/plain": [
       "<Figure size 700x600 with 0 Axes>"
      ]
     },
     "metadata": {},
     "output_type": "display_data"
    },
    {
     "data": {
      "text/plain": [
       "<Figure size 900x540 with 0 Axes>"
      ]
     },
     "metadata": {},
     "output_type": "display_data"
    },
    {
     "data": {
      "text/plain": [
       "<Figure size 700x600 with 0 Axes>"
      ]
     },
     "metadata": {},
     "output_type": "display_data"
    },
    {
     "data": {
      "text/plain": [
       "<Figure size 700x600 with 0 Axes>"
      ]
     },
     "metadata": {},
     "output_type": "display_data"
    },
    {
     "data": {
      "text/plain": [
       "<Figure size 900x540 with 0 Axes>"
      ]
     },
     "metadata": {},
     "output_type": "display_data"
    },
    {
     "data": {
      "text/plain": [
       "<Figure size 700x600 with 0 Axes>"
      ]
     },
     "metadata": {},
     "output_type": "display_data"
    },
    {
     "data": {
      "text/plain": [
       "<Figure size 700x600 with 0 Axes>"
      ]
     },
     "metadata": {},
     "output_type": "display_data"
    },
    {
     "data": {
      "text/plain": [
       "<Figure size 900x540 with 0 Axes>"
      ]
     },
     "metadata": {},
     "output_type": "display_data"
    },
    {
     "data": {
      "text/plain": [
       "<Figure size 700x600 with 0 Axes>"
      ]
     },
     "metadata": {},
     "output_type": "display_data"
    },
    {
     "data": {
      "text/plain": [
       "<Figure size 700x600 with 0 Axes>"
      ]
     },
     "metadata": {},
     "output_type": "display_data"
    },
    {
     "data": {
      "text/plain": [
       "<Figure size 900x540 with 0 Axes>"
      ]
     },
     "metadata": {},
     "output_type": "display_data"
    },
    {
     "data": {
      "text/plain": [
       "<Figure size 700x600 with 0 Axes>"
      ]
     },
     "metadata": {},
     "output_type": "display_data"
    },
    {
     "data": {
      "text/plain": [
       "<Figure size 700x600 with 0 Axes>"
      ]
     },
     "metadata": {},
     "output_type": "display_data"
    },
    {
     "data": {
      "text/plain": [
       "<Figure size 900x540 with 0 Axes>"
      ]
     },
     "metadata": {},
     "output_type": "display_data"
    },
    {
     "data": {
      "text/plain": [
       "<Figure size 700x600 with 0 Axes>"
      ]
     },
     "metadata": {},
     "output_type": "display_data"
    },
    {
     "data": {
      "text/plain": [
       "<Figure size 700x600 with 0 Axes>"
      ]
     },
     "metadata": {},
     "output_type": "display_data"
    },
    {
     "data": {
      "text/plain": [
       "<Figure size 900x540 with 0 Axes>"
      ]
     },
     "metadata": {},
     "output_type": "display_data"
    },
    {
     "data": {
      "text/plain": [
       "<Figure size 700x600 with 0 Axes>"
      ]
     },
     "metadata": {},
     "output_type": "display_data"
    },
    {
     "data": {
      "text/plain": [
       "<Figure size 700x600 with 0 Axes>"
      ]
     },
     "metadata": {},
     "output_type": "display_data"
    },
    {
     "data": {
      "text/plain": [
       "<Figure size 900x540 with 0 Axes>"
      ]
     },
     "metadata": {},
     "output_type": "display_data"
    },
    {
     "data": {
      "text/plain": [
       "<Figure size 700x600 with 0 Axes>"
      ]
     },
     "metadata": {},
     "output_type": "display_data"
    },
    {
     "data": {
      "text/plain": [
       "<Figure size 700x600 with 0 Axes>"
      ]
     },
     "metadata": {},
     "output_type": "display_data"
    },
    {
     "data": {
      "text/plain": [
       "<Figure size 900x540 with 0 Axes>"
      ]
     },
     "metadata": {},
     "output_type": "display_data"
    },
    {
     "data": {
      "text/plain": [
       "<Figure size 700x600 with 0 Axes>"
      ]
     },
     "metadata": {},
     "output_type": "display_data"
    },
    {
     "data": {
      "text/plain": [
       "<Figure size 700x600 with 0 Axes>"
      ]
     },
     "metadata": {},
     "output_type": "display_data"
    },
    {
     "data": {
      "text/plain": [
       "<Figure size 900x540 with 0 Axes>"
      ]
     },
     "metadata": {},
     "output_type": "display_data"
    },
    {
     "data": {
      "text/plain": [
       "<Figure size 700x600 with 0 Axes>"
      ]
     },
     "metadata": {},
     "output_type": "display_data"
    },
    {
     "data": {
      "text/plain": [
       "<Figure size 700x600 with 0 Axes>"
      ]
     },
     "metadata": {},
     "output_type": "display_data"
    },
    {
     "data": {
      "text/plain": [
       "<Figure size 900x540 with 0 Axes>"
      ]
     },
     "metadata": {},
     "output_type": "display_data"
    },
    {
     "data": {
      "text/plain": [
       "<Figure size 700x600 with 0 Axes>"
      ]
     },
     "metadata": {},
     "output_type": "display_data"
    },
    {
     "data": {
      "text/plain": [
       "<Figure size 700x600 with 0 Axes>"
      ]
     },
     "metadata": {},
     "output_type": "display_data"
    },
    {
     "data": {
      "text/plain": [
       "<Figure size 900x540 with 0 Axes>"
      ]
     },
     "metadata": {},
     "output_type": "display_data"
    },
    {
     "data": {
      "text/plain": [
       "<Figure size 700x600 with 0 Axes>"
      ]
     },
     "metadata": {},
     "output_type": "display_data"
    },
    {
     "data": {
      "text/plain": [
       "<Figure size 700x600 with 0 Axes>"
      ]
     },
     "metadata": {},
     "output_type": "display_data"
    }
   ],
   "source": [
    "# Load orientation & injector once\n",
    "ORI = SpacecraftFile.parse_from_file(ORI_FILE)\n",
    "INJECTOR = SourceInjector(response_path=RESPONSE_H5)\n",
    "\n",
    "for row in manifest:\n",
    "    paths = paths_for(row)\n",
    "\n",
    "    # Build model and (re)create HDF5\n",
    "    model = make_point_model(row)\n",
    "    if paths[\"h5\"].exists():\n",
    "        paths[\"h5\"].unlink()\n",
    "\n",
    "    INJECTOR.inject_model(model=model, orientation=ORI, make_spectrum_plot=False, data_save_path=str(paths[\"h5\"]))\n",
    "    print(\"[OK] Injected:\", paths[\"h5\"].name)\n",
    "\n",
    "    # Figures\n",
    "    plot_spectrum_png(paths[\"h5\"], paths[\"fig_spec\"], title=f\"{row['case_id']} — Spectrum\")\n",
    "    plot_cds2d_png(paths[\"h5\"],   paths[\"fig_cds2\"],  title=f\"{row['case_id']} — CDS 2D\")\n",
    "    plot_cds3d_png(paths[\"h5\"],   paths[\"fig_cds3\"],  title=f\"{row['case_id']} — CDS 3D\")\n",
    "\n",
    "    # Sky products (if healpy available)\n",
    "    save_sky_figures(paths[\"h5\"], paths[\"fits_sky\"], paths[\"fig_moll\"], paths[\"fig_gnom_g\"], paths[\"fig_gnom_eq\"])\n",
    "\n",
    "print(\"All Tier-1 injections complete.\")"
   ]
  },
  {
   "cell_type": "markdown",
   "id": "543c46b0-e4f1-4099-95d2-5107c4244883",
   "metadata": {},
   "source": [
    "🌌 6) Background-Only Injection (Near-Zero Flux)"
   ]
  },
  {
   "cell_type": "code",
   "execution_count": 16,
   "id": "c121b3bc-c19a-4e41-bb0a-740fd81f9020",
   "metadata": {},
   "outputs": [
    {
     "name": "stdout",
     "output_type": "stream",
     "text": [
      "[OK] Injected background-only: GRB_LONG60_S1_Fmin_L045_B+50.h5\n",
      "[cds3d] Skipped (no centers/values)\n"
     ]
    },
    {
     "data": {
      "text/plain": [
       "<Figure size 900x540 with 0 Axes>"
      ]
     },
     "metadata": {},
     "output_type": "display_data"
    },
    {
     "data": {
      "text/plain": [
       "<Figure size 700x600 with 0 Axes>"
      ]
     },
     "metadata": {},
     "output_type": "display_data"
    },
    {
     "data": {
      "text/plain": [
       "<Figure size 700x600 with 0 Axes>"
      ]
     },
     "metadata": {},
     "output_type": "display_data"
    }
   ],
   "source": [
    "# Find smallest allowed K to avoid parameter bound violations\n",
    "_probe = Band()\n",
    "K_MIN = getattr(_probe.K, \"min_value\", 1e-50)\n",
    "\n",
    "# Build tiny-K model at high latitude G5\n",
    "row_bg = {\n",
    "    \"case_id\":    \"BKG_ONLY\",\n",
    "    \"duration_id\":\"LONG60\",  # label only\n",
    "    \"spec_id\":    \"S1\",      # alpha/beta used but K tiny\n",
    "    \"flux_id\":    \"Fmin\",    # label only\n",
    "    \"flux_scale\": 0.0,\n",
    "    \"sky_id\":     \"G5\",\n",
    "}\n",
    "\n",
    "s = SPECTRA[\"S1\"]\n",
    "zero = Band()\n",
    "zero.alpha.value = float(s[\"alpha\"]); zero.beta.value = float(s[\"beta\"])\n",
    "zero.xp.value    = float(s[\"xp_keV\"]); zero.piv.value = float(PIVOT_KEV.value)\n",
    "zero.K.value     = float(K_MIN)\n",
    "zero.xp.unit=u.keV; zero.piv.unit=u.keV; zero.K.unit=1/(u.cm*u.cm*u.s*u.keV)\n",
    "\n",
    "sky = SKY[row_bg[\"sky_id\"]]\n",
    "src = SkyCoord(l=sky[\"l_deg\"], b=sky[\"b_deg\"], unit=\"deg\", frame=\"galactic\")\n",
    "\n",
    "# IMPORTANT: PointSource name as positional argument\n",
    "ps  = PointSource(row_bg[\"case_id\"], l=src.l.deg, b=src.b.deg, spectral_shape=zero)\n",
    "model_bg = Model(ps)\n",
    "\n",
    "paths_bg = paths_for(row_bg)\n",
    "if paths_bg[\"h5\"].exists():\n",
    "    paths_bg[\"h5\"].unlink()\n",
    "\n",
    "INJECTOR.inject_model(model=model_bg, orientation=ORI, make_spectrum_plot=False, data_save_path=str(paths_bg[\"h5\"]))\n",
    "print(\"[OK] Injected background-only:\", paths_bg[\"h5\"].name)\n",
    "\n",
    "# Figures\n",
    "plot_spectrum_png(paths_bg[\"h5\"], paths_bg[\"fig_spec\"], title=\"Background-only — Spectrum\")\n",
    "plot_cds2d_png(paths_bg[\"h5\"],   paths_bg[\"fig_cds2\"],  title=\"Background-only — CDS 2D\")\n",
    "plot_cds3d_png(paths_bg[\"h5\"],   paths_bg[\"fig_cds3\"],  title=\"Background-only — CDS 3D\")\n",
    "\n",
    "# Sky (if healpy)\n",
    "save_sky_figures(paths_bg[\"h5\"], paths_bg[\"fits_sky\"], paths_bg[\"fig_moll\"], paths_bg[\"fig_gnom_g\"], paths_bg[\"fig_gnom_eq\"])\n"
   ]
  },
  {
   "cell_type": "markdown",
   "id": "e22d7ca8-5172-4f50-8235-78f59085db00",
   "metadata": {},
   "source": [
    "📊 7) Quick Overlays (Spectra) & CDS 2D Comparison Panel"
   ]
  },
  {
   "cell_type": "code",
   "execution_count": 18,
   "id": "a1c1547c-4931-4652-8b1c-df32d529e754",
   "metadata": {},
   "outputs": [
    {
     "name": "stderr",
     "output_type": "stream",
     "text": [
      "\n",
      "WARNING UserWarning: This figure includes Axes that are not compatible with tight_layout, so results might be incorrect.\n",
      "\n"
     ]
    }
   ],
   "source": [
    "# Overlay spectra for a given group (same spectrum & sky, any number of fluxes)\n",
    "def spectra_overlay_group(rows: list, png_path: Path, title: str):\n",
    "    fig, ax = plt.subplots(figsize=(7.2,4.6))\n",
    "    n_plotted = 0\n",
    "    for row in rows:\n",
    "        p = paths_for(row)\n",
    "        if not p[\"h5\"].exists():\n",
    "            print(\"[overlay] missing file:\", p[\"h5\"])\n",
    "            continue\n",
    "        h = Histogram.open(str(p[\"h5\"]))\n",
    "        try:\n",
    "            proj = project_energy(h)\n",
    "            proj.draw(ax=ax, label=row[\"case_id\"])\n",
    "            n_plotted += 1\n",
    "        except Exception as e:\n",
    "            print(\"[overlay]\", row[\"case_id\"], \"->\", e)\n",
    "            continue\n",
    "    if n_plotted == 0:\n",
    "        print(\"[overlay] nothing to plot for\", title)\n",
    "        plt.close(fig); return\n",
    "    ax.set_xscale(\"log\"); ax.set_yscale(\"log\")\n",
    "    ax.set_xlabel(\"Energy [keV]\"); ax.set_ylabel(\"Counts\")\n",
    "    ax.set_title(title); ax.legend(fontsize=8)\n",
    "    fig.tight_layout(); fig.savefig(png_path, dpi=160); plt.close(fig)\n",
    "\n",
    "\n",
    "# ---- Helpers to robustly get CDS 2D matrices ----\n",
    "\n",
    "def hist_values_from_draw(h2d, nx=None, ny=None):\n",
    "    \"\"\"Last-resort: render with draw() and read the color array back.\"\"\"\n",
    "    fig, ax = plt.subplots()\n",
    "    Z = None\n",
    "    try:\n",
    "        h2d.draw(ax=ax)\n",
    "        for coll in ax.collections:\n",
    "            if hasattr(coll, \"get_array\"):\n",
    "                data = np.asarray(coll.get_array())\n",
    "                if data.size:\n",
    "                    Z = data\n",
    "                    break\n",
    "        # reshape if we know target grid\n",
    "        if Z is not None and nx is not None and ny is not None:\n",
    "            if Z.size == (nx-1)*(ny-1):\n",
    "                Z = Z.reshape((nx-1, ny-1))\n",
    "            elif Z.size == nx*ny:\n",
    "                Z = Z.reshape((nx, ny))\n",
    "        return Z\n",
    "    except Exception:\n",
    "        return None\n",
    "    finally:\n",
    "        plt.close(fig)\n",
    "\n",
    "def cds2d_grid(hfile: Path):\n",
    "    \"\"\"Return (axA, axB, Xc, Yc, Z) with robust fallbacks.\"\"\"\n",
    "    h = Histogram.open(str(hfile))\n",
    "    axA, axB = cds2d_get_axes(h)\n",
    "    try:\n",
    "        h_noE = h.integrate(\"Em\")\n",
    "    except Exception:\n",
    "        try:\n",
    "            h_noE = h.marginalize(\"Em\")\n",
    "        except Exception:\n",
    "            h_noE = h\n",
    "    h2d = h_noE.project([axA, axB])\n",
    "\n",
    "    Xc = axis_centers(h2d.axes[0]); Yc = axis_centers(h2d.axes[1]); Z = hist_values(h2d)\n",
    "    if Z is None and (Xc is not None) and (Yc is not None):\n",
    "        Z = hist_values_from_draw(h2d, len(Xc), len(Yc))\n",
    "    return axA, axB, Xc, Yc, Z\n",
    "\n",
    "\n",
    "# ---- Compare 1–3 CDS maps with shared color scale (robust) ----\n",
    "\n",
    "def cds2d_compare(rows: list, png_path: Path, title: str):\n",
    "    \"\"\"\n",
    "    rows: list of 1–3 manifest rows (e.g., [low, nominal, high]).\n",
    "    Computes shared vmin/vmax across whatever is available.\n",
    "    \"\"\"\n",
    "    from matplotlib.gridspec import GridSpec\n",
    "    if not rows:\n",
    "        print(\"[cds2d_compare] no rows provided\"); return\n",
    "\n",
    "    # Build triples only for rows that opened successfully\n",
    "    triples = []\n",
    "    for r in rows:\n",
    "        p = paths_for(r)\n",
    "        if not p[\"h5\"].exists():\n",
    "            print(\"[cds2d_compare] missing file:\", p[\"h5\"]); continue\n",
    "        try:\n",
    "            axA, axB, Xc, Yc, Z = cds2d_grid(p[\"h5\"])\n",
    "            triples.append((r[\"case_id\"], axA, axB, Xc, Yc, Z))\n",
    "        except Exception as e:\n",
    "            print(\"[cds2d_compare]\", r[\"case_id\"], \"->\", e)\n",
    "\n",
    "    if not triples:\n",
    "        print(\"[cds2d_compare] nothing to plot for\", title); return\n",
    "\n",
    "    # Collect Z arrays to set shared color scale\n",
    "    Zlist = [t[5] for t in triples if t[5] is not None]\n",
    "    if not Zlist:\n",
    "        print(\"[cds2d_compare] could not recover Z for any case\"); return\n",
    "\n",
    "    # Flatten and compute robust vmin/vmax\n",
    "    Zstack = np.hstack([z.ravel() for z in Zlist if z.size > 0])\n",
    "    # guard against NaNs/Infs\n",
    "    Zstack = Zstack[np.isfinite(Zstack)]\n",
    "    if Zstack.size == 0:\n",
    "        print(\"[cds2d_compare] Z arrays are non-finite\"); return\n",
    "\n",
    "    vmin = np.nanpercentile(Zstack, 15)\n",
    "    vmax = np.nanpercentile(Zstack, 99.5)\n",
    "    if not np.isfinite(vmin) or not np.isfinite(vmax) or vmin == vmax:\n",
    "        vmin, vmax = float(np.nanmin(Zstack)), float(np.nanmax(Zstack))\n",
    "        if not np.isfinite(vmin) or not np.isfinite(vmax) or vmin == vmax:\n",
    "            print(\"[cds2d_compare] invalid vmin/vmax\"); return\n",
    "\n",
    "    # Lay out 1–3 panels dynamically\n",
    "    n = len(triples)\n",
    "    fig = plt.figure(figsize=(6.0*n + 1.0, 4.8))\n",
    "    gs = GridSpec(1, n, figure=fig, wspace=0.25)\n",
    "\n",
    "    for i, (case, axA, axB, Xc, Yc, Z) in enumerate(triples):\n",
    "        ax = fig.add_subplot(gs[0, i])\n",
    "        if (Xc is not None) and (Yc is not None) and (Z is not None) and (Z.ndim == 2):\n",
    "            im = ax.imshow(\n",
    "                Z, origin=\"lower\", aspect=\"auto\",\n",
    "                extent=[Xc.min(), Xc.max(), Yc.min(), Yc.max()],\n",
    "                vmin=vmin, vmax=vmax\n",
    "            )\n",
    "            if i == n - 1:\n",
    "                cbar = fig.colorbar(im, ax=ax, fraction=0.046, pad=0.04)\n",
    "                cbar.set_label(\"Counts\")\n",
    "        else:\n",
    "            ax.text(0.5, 0.5, \"No data\", ha=\"center\", va=\"center\", transform=ax.transAxes)\n",
    "        ax.set_title(case, fontsize=9)\n",
    "        ax.set_xlabel(axA)\n",
    "        if i == 0:\n",
    "            ax.set_ylabel(axB)\n",
    "\n",
    "    fig.suptitle(title)\n",
    "    fig.tight_layout(rect=[0, 0, 1, 0.95])\n",
    "    fig.savefig(png_path, dpi=170)\n",
    "    plt.close(fig)\n",
    "\n",
    "\n",
    "# ---------- Example calls ----------\n",
    "# Example 1: short@G5 S4 — all available fluxes in your manifest (works with 1–3)\n",
    "rows_S4 = sorted(\n",
    "    [r for r in manifest if (r[\"spec_id\"]==\"S4\" and r[\"sky_id\"]==\"G5\")],\n",
    "    key=lambda r: [\"F0p1\",\"F1\",\"F10\"].index(r[\"flux_id\"]) if r[\"flux_id\"] in [\"F0p1\",\"F1\",\"F10\"] else 1\n",
    ")\n",
    "spectra_overlay_group(rows_S4, FIG_DIR/\"overlay_SHORT_S4_G5.png\", \"Short S4 @ G5 — Flux overlay\")\n",
    "cds2d_compare(rows_S4, FIG_DIR/\"cds_COMPARE_SHORT_S4_G5.png\", \"CDS 2D — Short S4 @ G5 (available fluxes)\")\n",
    "\n",
    "# Example 2: long@G1 S2 — all available fluxes in your manifest (works with 1–3)\n",
    "rows_S2 = sorted(\n",
    "    [r for r in manifest if (r[\"spec_id\"]==\"S2\" and r[\"sky_id\"]==\"G1\")],\n",
    "    key=lambda r: [\"F0p1\",\"F1\",\"F10\"].index(r[\"flux_id\"]) if r[\"flux_id\"] in [\"F0p1\",\"F1\",\"F10\"] else 1\n",
    ")\n",
    "spectra_overlay_group(rows_S2, FIG_DIR/\"overlay_LONG_S2_G1.png\", \"Long S2 @ G1 — Flux overlay\")\n",
    "cds2d_compare(rows_S2, FIG_DIR/\"cds_COMPARE_LONG_S2_G1.png\", \"CDS 2D — Long S2 @ G1 (available fluxes)\")\n"
   ]
  },
  {
   "cell_type": "markdown",
   "id": "1abbe281-9c3e-4521-9eb4-6bb6067339c5",
   "metadata": {},
   "source": [
    "📦 8) (Optional) Zip Outputs for Sharing"
   ]
  },
  {
   "cell_type": "code",
   "execution_count": 19,
   "id": "b1a55ff8-9c3f-47c0-8f97-6f0c1de99a07",
   "metadata": {},
   "outputs": [
    {
     "name": "stdout",
     "output_type": "stream",
     "text": [
      "Zipped to: /data01/grb_2/tier1_outputs.zip\n"
     ]
    }
   ],
   "source": [
    "import shutil\n",
    "ZIP_PATH = OUT_DIR.with_suffix(\".zip\")\n",
    "if ZIP_PATH.exists():\n",
    "    ZIP_PATH.unlink()\n",
    "shutil.make_archive(str(OUT_DIR), \"zip\", root_dir=OUT_DIR)\n",
    "print(\"Zipped to:\", ZIP_PATH)\n"
   ]
  },
  {
   "cell_type": "markdown",
   "id": "c40446aa-5abe-43f2-9408-344e273b96d6",
   "metadata": {},
   "source": [
    "📝 9) Notes (Markdown)"
   ]
  },
  {
   "cell_type": "markdown",
   "id": "8243e348-5606-43f2-95ae-d36f1d3a7384",
   "metadata": {},
   "source": [
    "- **Fix applied**: `PointSource(<name>, l=..., b=..., spectral_shape=...)` — name passed positionally.\n",
    "- Keep response & CDS binning constant across runs (inherent from the response file).\n",
    "- 3D surfaces may skip if centers/values aren’t available (expected for some histpy variants).\n",
    "- If `healpy` isn’t installed, sky maps are skipped — `pip install healpy` to enable.\n",
    "- Figures land in `tier1_outputs/figs/`. Use overlay/compare PNGs directly in Slides.\n"
   ]
  },
  {
   "cell_type": "code",
   "execution_count": null,
   "id": "e848d2ce-4f9b-4b43-88d9-3e9693f6637f",
   "metadata": {},
   "outputs": [],
   "source": []
  },
  {
   "cell_type": "code",
   "execution_count": null,
   "id": "216d096a-e88a-43ab-bd21-de4f06387955",
   "metadata": {},
   "outputs": [],
   "source": []
  },
  {
   "cell_type": "code",
   "execution_count": null,
   "id": "e8af2d0d-f17a-41af-93f3-788d908432c8",
   "metadata": {},
   "outputs": [],
   "source": []
  }
 ],
 "metadata": {
  "kernelspec": {
   "display_name": "Python 3 (ipykernel)",
   "language": "python",
   "name": "python3"
  },
  "language_info": {
   "codemirror_mode": {
    "name": "ipython",
    "version": 3
   },
   "file_extension": ".py",
   "mimetype": "text/x-python",
   "name": "python",
   "nbconvert_exporter": "python",
   "pygments_lexer": "ipython3",
   "version": "3.10.18"
  }
 },
 "nbformat": 4,
 "nbformat_minor": 5
}
